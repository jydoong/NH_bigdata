{
 "cells": [
  {
   "cell_type": "code",
   "execution_count": 2,
   "metadata": {},
   "outputs": [],
   "source": [
    "import pandas as pd"
   ]
  },
  {
   "cell_type": "code",
   "execution_count": 11,
   "metadata": {},
   "outputs": [
    {
     "data": {
      "text/html": [
       "<div>\n",
       "<style scoped>\n",
       "    .dataframe tbody tr th:only-of-type {\n",
       "        vertical-align: middle;\n",
       "    }\n",
       "\n",
       "    .dataframe tbody tr th {\n",
       "        vertical-align: top;\n",
       "    }\n",
       "\n",
       "    .dataframe thead th {\n",
       "        text-align: right;\n",
       "    }\n",
       "</style>\n",
       "<table border=\"1\" class=\"dataframe\">\n",
       "  <thead>\n",
       "    <tr style=\"text-align: right;\">\n",
       "      <th></th>\n",
       "      <th>title</th>\n",
       "      <th>date</th>\n",
       "      <th>category</th>\n",
       "      <th>key_points</th>\n",
       "      <th>text</th>\n",
       "      <th>url</th>\n",
       "    </tr>\n",
       "  </thead>\n",
       "  <tbody>\n",
       "    <tr>\n",
       "      <th>0</th>\n",
       "      <td>Citigroup posts better-than-expected earnings ...</td>\n",
       "      <td>2023-07-14 00:00:00</td>\n",
       "      <td>Markets</td>\n",
       "      <td>Citigroup reported second-quarter earnings and...</td>\n",
       "      <td>Citigroup on Friday reported second-quarter ea...</td>\n",
       "      <td>https://www.cnbc.com/2023/07/14/citigroup-c-q2...</td>\n",
       "    </tr>\n",
       "    <tr>\n",
       "      <th>1</th>\n",
       "      <td>Europe's Stripe rival Adyen dives 39% after sl...</td>\n",
       "      <td>2023-08-17 00:00:00</td>\n",
       "      <td>Tech</td>\n",
       "      <td>Adyen reported revenue of 739.1 million euros ...</td>\n",
       "      <td>Shares of Adyen , the European payments giant ...</td>\n",
       "      <td>https://www.cnbc.com/2023/08/17/adyen-earnings...</td>\n",
       "    </tr>\n",
       "    <tr>\n",
       "      <th>2</th>\n",
       "      <td>What happened to the Chinese travel boom every...</td>\n",
       "      <td>2023-07-26 00:00:00</td>\n",
       "      <td>CNBC Travel</td>\n",
       "      <td></td>\n",
       "      <td>Are you prepared? That was the question that m...</td>\n",
       "      <td>https://www.cnbc.com/2023/07/26/china-travel-b...</td>\n",
       "    </tr>\n",
       "    <tr>\n",
       "      <th>3</th>\n",
       "      <td>George Santos bail backers will be revealed Th...</td>\n",
       "      <td>2023-06-20 00:00:00</td>\n",
       "      <td>Politics</td>\n",
       "      <td>Santos' lawyer argued that the bail backers' i...</td>\n",
       "      <td>U.S. Representative George Santos (R-NY) speak...</td>\n",
       "      <td>https://www.cnbc.com/2023/06/20/george-santos-...</td>\n",
       "    </tr>\n",
       "    <tr>\n",
       "      <th>4</th>\n",
       "      <td>Former UK PM Liz Truss is blaming the left-win...</td>\n",
       "      <td>2023-02-06 00:00:00</td>\n",
       "      <td>Europe Politics</td>\n",
       "      <td>Truss resigned in October, becoming the shorte...</td>\n",
       "      <td>British Prime Minister Liz Truss announces her...</td>\n",
       "      <td>https://www.cnbc.com/2023/02/06/former-uk-pm-l...</td>\n",
       "    </tr>\n",
       "    <tr>\n",
       "      <th>...</th>\n",
       "      <td>...</td>\n",
       "      <td>...</td>\n",
       "      <td>...</td>\n",
       "      <td>...</td>\n",
       "      <td>...</td>\n",
       "      <td>...</td>\n",
       "    </tr>\n",
       "    <tr>\n",
       "      <th>896</th>\n",
       "      <td>Moderna CEO Stephane Bancel defends fivefold p...</td>\n",
       "      <td>2023-03-22 00:00:00</td>\n",
       "      <td>Health and Science</td>\n",
       "      <td>Sen. Bernie Sanders pressed Bancel during the ...</td>\n",
       "      <td>\"Quadrupling the price is huge,\" Sanders told ...</td>\n",
       "      <td>https://www.cnbc.com/2023/03/22/moderna-ceo-st...</td>\n",
       "    </tr>\n",
       "    <tr>\n",
       "      <th>897</th>\n",
       "      <td>Bitcoin briefly rises above $31,000 to highest...</td>\n",
       "      <td>2023-06-23 00:00:00</td>\n",
       "      <td>Markets</td>\n",
       "      <td>Bitcoin broke above $31,000 Friday. The larges...</td>\n",
       "      <td>Bitcoin briefly broke above $31,000 Friday, bu...</td>\n",
       "      <td>https://www.cnbc.com/2023/06/23/bitcoin-rises-...</td>\n",
       "    </tr>\n",
       "    <tr>\n",
       "      <th>898</th>\n",
       "      <td>Rudy Giuliani booked in Trump Georgia election...</td>\n",
       "      <td>2023-08-23 00:00:00</td>\n",
       "      <td>Politics</td>\n",
       "      <td>Former Trump campaign lawyer Rudy Giuliani sur...</td>\n",
       "      <td>Rudy Giuliani, who served as former U.S. Presi...</td>\n",
       "      <td>https://www.cnbc.com/2023/08/23/trump-lawyer-r...</td>\n",
       "    </tr>\n",
       "    <tr>\n",
       "      <th>899</th>\n",
       "      <td>Apple reportedly tests 3D printing to manufact...</td>\n",
       "      <td>2023-08-31 00:00:00</td>\n",
       "      <td>Tech</td>\n",
       "      <td>Apple is reportedly testing using 3D printing ...</td>\n",
       "      <td>Apple is testing the use of 3D printers to mak...</td>\n",
       "      <td>https://www.cnbc.com/2023/08/31/apple-is-testi...</td>\n",
       "    </tr>\n",
       "    <tr>\n",
       "      <th>900</th>\n",
       "      <td>A.I. poses existential risk of people being 'h...</td>\n",
       "      <td>2023-05-24 00:00:00</td>\n",
       "      <td>Tech</td>\n",
       "      <td>Artificial intelligence could pose existential...</td>\n",
       "      <td>Former Google CEO Eric Schmidt said he sees \"e...</td>\n",
       "      <td>https://www.cnbc.com/2023/05/24/ai-poses-exist...</td>\n",
       "    </tr>\n",
       "  </tbody>\n",
       "</table>\n",
       "<p>901 rows × 6 columns</p>\n",
       "</div>"
      ],
      "text/plain": [
       "                                                 title                 date  \\\n",
       "0    Citigroup posts better-than-expected earnings ...  2023-07-14 00:00:00   \n",
       "1    Europe's Stripe rival Adyen dives 39% after sl...  2023-08-17 00:00:00   \n",
       "2    What happened to the Chinese travel boom every...  2023-07-26 00:00:00   \n",
       "3    George Santos bail backers will be revealed Th...  2023-06-20 00:00:00   \n",
       "4    Former UK PM Liz Truss is blaming the left-win...  2023-02-06 00:00:00   \n",
       "..                                                 ...                  ...   \n",
       "896  Moderna CEO Stephane Bancel defends fivefold p...  2023-03-22 00:00:00   \n",
       "897  Bitcoin briefly rises above $31,000 to highest...  2023-06-23 00:00:00   \n",
       "898  Rudy Giuliani booked in Trump Georgia election...  2023-08-23 00:00:00   \n",
       "899  Apple reportedly tests 3D printing to manufact...  2023-08-31 00:00:00   \n",
       "900  A.I. poses existential risk of people being 'h...  2023-05-24 00:00:00   \n",
       "\n",
       "               category                                         key_points  \\\n",
       "0               Markets  Citigroup reported second-quarter earnings and...   \n",
       "1                  Tech  Adyen reported revenue of 739.1 million euros ...   \n",
       "2           CNBC Travel                                                      \n",
       "3              Politics  Santos' lawyer argued that the bail backers' i...   \n",
       "4       Europe Politics  Truss resigned in October, becoming the shorte...   \n",
       "..                  ...                                                ...   \n",
       "896  Health and Science  Sen. Bernie Sanders pressed Bancel during the ...   \n",
       "897             Markets  Bitcoin broke above $31,000 Friday. The larges...   \n",
       "898            Politics  Former Trump campaign lawyer Rudy Giuliani sur...   \n",
       "899                Tech  Apple is reportedly testing using 3D printing ...   \n",
       "900                Tech  Artificial intelligence could pose existential...   \n",
       "\n",
       "                                                  text  \\\n",
       "0    Citigroup on Friday reported second-quarter ea...   \n",
       "1    Shares of Adyen , the European payments giant ...   \n",
       "2    Are you prepared? That was the question that m...   \n",
       "3    U.S. Representative George Santos (R-NY) speak...   \n",
       "4    British Prime Minister Liz Truss announces her...   \n",
       "..                                                 ...   \n",
       "896  \"Quadrupling the price is huge,\" Sanders told ...   \n",
       "897  Bitcoin briefly broke above $31,000 Friday, bu...   \n",
       "898  Rudy Giuliani, who served as former U.S. Presi...   \n",
       "899  Apple is testing the use of 3D printers to mak...   \n",
       "900  Former Google CEO Eric Schmidt said he sees \"e...   \n",
       "\n",
       "                                                   url  \n",
       "0    https://www.cnbc.com/2023/07/14/citigroup-c-q2...  \n",
       "1    https://www.cnbc.com/2023/08/17/adyen-earnings...  \n",
       "2    https://www.cnbc.com/2023/07/26/china-travel-b...  \n",
       "3    https://www.cnbc.com/2023/06/20/george-santos-...  \n",
       "4    https://www.cnbc.com/2023/02/06/former-uk-pm-l...  \n",
       "..                                                 ...  \n",
       "896  https://www.cnbc.com/2023/03/22/moderna-ceo-st...  \n",
       "897  https://www.cnbc.com/2023/06/23/bitcoin-rises-...  \n",
       "898  https://www.cnbc.com/2023/08/23/trump-lawyer-r...  \n",
       "899  https://www.cnbc.com/2023/08/31/apple-is-testi...  \n",
       "900  https://www.cnbc.com/2023/05/24/ai-poses-exist...  \n",
       "\n",
       "[901 rows x 6 columns]"
      ]
     },
     "execution_count": 11,
     "metadata": {},
     "output_type": "execute_result"
    }
   ],
   "source": [
    "df = pd.read_pickle('/Users/parkjeonghoon/Desktop/BITamin/NH/pkl_file/2900번째_체크포인트.pkl')\n",
    "df"
   ]
  },
  {
   "cell_type": "code",
   "execution_count": 13,
   "metadata": {},
   "outputs": [
    {
     "data": {
      "text/plain": [
       "901"
      ]
     },
     "execution_count": 13,
     "metadata": {},
     "output_type": "execute_result"
    }
   ],
   "source": [
    "len(df)"
   ]
  },
  {
   "cell_type": "code",
   "execution_count": 7,
   "metadata": {},
   "outputs": [
    {
     "data": {
      "text/plain": [
       "title         0\n",
       "date          0\n",
       "category      0\n",
       "key_points    0\n",
       "text          0\n",
       "url           0\n",
       "dtype: int64"
      ]
     },
     "execution_count": 7,
     "metadata": {},
     "output_type": "execute_result"
    }
   ],
   "source": [
    "df.isnull().sum()"
   ]
  },
  {
   "cell_type": "code",
   "execution_count": 21,
   "metadata": {},
   "outputs": [
    {
     "name": "stdout",
     "output_type": "stream",
     "text": [
      "202  empty\n",
      "466  empty\n"
     ]
    }
   ],
   "source": [
    "dic = ['title', 'date', 'category', 'key_points', 'text', 'url']\n",
    "for i in range(len(df)):\n",
    "    cnt = 0\n",
    "    for ls in dic:\n",
    "        if df.iloc[i][ls] == '':\n",
    "            cnt += 1\n",
    "    if cnt >= 3:\n",
    "        print(i, ' empty')\n"
   ]
  },
  {
   "cell_type": "code",
   "execution_count": 20,
   "metadata": {},
   "outputs": [
    {
     "data": {
      "text/plain": [
       "title                                                          \n",
       "date                                                           \n",
       "category                                                       \n",
       "key_points                                                     \n",
       "text                                                           \n",
       "url           https://www.cnbc.com/2023/05/17/worried-about-...\n",
       "Name: 202, dtype: object"
      ]
     },
     "execution_count": 20,
     "metadata": {},
     "output_type": "execute_result"
    }
   ],
   "source": [
    "df.iloc[202]"
   ]
  }
 ],
 "metadata": {
  "kernelspec": {
   "display_name": "torch",
   "language": "python",
   "name": "python3"
  },
  "language_info": {
   "codemirror_mode": {
    "name": "ipython",
    "version": 3
   },
   "file_extension": ".py",
   "mimetype": "text/x-python",
   "name": "python",
   "nbconvert_exporter": "python",
   "pygments_lexer": "ipython3",
   "version": "3.10.11"
  },
  "orig_nbformat": 4
 },
 "nbformat": 4,
 "nbformat_minor": 2
}
