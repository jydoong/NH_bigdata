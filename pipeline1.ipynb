{
 "cells": [
  {
   "cell_type": "code",
   "execution_count": 2,
   "metadata": {},
   "outputs": [],
   "source": [
    "import pickle\n",
    "import pandas as pd"
   ]
  },
  {
   "cell_type": "code",
   "execution_count": 3,
   "metadata": {},
   "outputs": [
    {
     "name": "stdout",
     "output_type": "stream",
     "text": [
      "{'TUSK', 'POWL', 'SND', 'YTEN', 'IPGP', 'ARCC', 'DRVN', 'CHX', 'APA', 'MMLP', 'ORLY', 'SNT', 'USEG', 'GRIN', 'PNRG', 'ASTE', 'HTOO', 'TCPC', 'ALTO', 'VTNR', 'PYR', 'ACB', 'PAA', 'QRHC', 'TKLF', 'CHK', 'LKQ', 'HUDI', 'HAYN', 'GURE', 'NWPX', 'GLDD', 'KLXE', 'DXPE', 'FELE', 'FANG', 'PSEC', 'DMLP', 'ACDC', 'SANM', 'CSWC', 'ARCB', 'MARPS', 'GPRE', 'ANDE', 'ARKO', 'IOSP', 'CHSCP', 'CRNT', 'AZPN', 'BWEN', 'BKR', 'ZKIN', 'ESOA', 'TOPS', 'GEOS', 'PXS', 'WPRT', 'TRMD', 'FFIN', 'BRY', 'CMTL', 'PAGP', 'CLMT', 'RCON', 'CLVR', 'FSTR', 'IMPP', 'USAP', 'CPLP', 'FAST', 'CZFS', 'INCR', 'BOOM', 'HPK', 'CREG', 'SASI', 'CHSCM', 'SYPR', 'FIP', 'TSAT', 'HFFG', 'WFRD', 'MFIC', 'MTRX', 'EVRG', 'HCCI', 'CG', 'PTEN', 'ARLP', 'CHRD', 'CTRM', 'EPSN', 'LAKE', 'AMTX', 'PCTI', 'COCO', 'USLM', 'SCWO', 'CPSH', 'XEL'}\n"
     ]
    }
   ],
   "source": [
    "# inputs = keywords\n",
    "# 미리 정의된 사전에서 추출 or keywords에 대한 value 추가 필요 \n",
    "\n",
    "keyword = 'oil'\n",
    "value = ['gpu', 'gpus', 'tpus', 'tpu']\n",
    "# cp_from_theme 테마로부터 해당 테마에 속한 기업 불러오기\n",
    "cp_from_theme = pickle.load(open('/Users/parkjeonghoon/Desktop/BITamin/NH/cp_from_theme.pkl', 'rb'))\n",
    "\n",
    "if keyword in cp_from_theme.keys():\n",
    "    company_list = cp_from_theme[keyword]\n",
    "    \n",
    "else:\n",
    "    df = pd.read_csv('/Users/parkjeonghoon/Desktop/BITamin/NH/stock_info.csv')\n",
    "    df_na_drop = df.dropna(subset=['description'])\n",
    "    df_na_drop.reset_index(drop=True, inplace=True)\n",
    "    \n",
    "    cp = []\n",
    "    item_list = {}\n",
    "    item_list[keyword] = value\n",
    "    \n",
    "    for i in range(len(df_na_drop)):\n",
    "        lst = df_na_drop.iloc[i]['description'].replace(\",\", '')\n",
    "        lst = lst.lower()\n",
    "        lst = lst.replace('.', '')\n",
    "        lst = lst.split(\" \")\n",
    "        \n",
    "        for wrd in item_list[keyword]:\n",
    "            if wrd in lst:\n",
    "                cp.append(df_na_drop.iloc[i]['tck_iem_cd'])\n",
    "\n",
    "    company_list = list(set(cp))\n",
    "\n",
    "print(company_list)\n",
    "\n"
   ]
  },
  {
   "cell_type": "code",
   "execution_count": 15,
   "metadata": {},
   "outputs": [],
   "source": [
    "score_df = pd.DataFrame({'text': ['a', 'b', 'c'], \n",
    "                         'Positive': [0.1, 0.2 , 0.9],\n",
    "                         'Negative': [0.1, 0.7, 0.05],\n",
    "                         'Neutral': [0.8, 0.1, 0.05]})"
   ]
  },
  {
   "cell_type": "code",
   "execution_count": 18,
   "metadata": {},
   "outputs": [
    {
     "data": {
      "text/html": [
       "<div>\n",
       "<style scoped>\n",
       "    .dataframe tbody tr th:only-of-type {\n",
       "        vertical-align: middle;\n",
       "    }\n",
       "\n",
       "    .dataframe tbody tr th {\n",
       "        vertical-align: top;\n",
       "    }\n",
       "\n",
       "    .dataframe thead th {\n",
       "        text-align: right;\n",
       "    }\n",
       "</style>\n",
       "<table border=\"1\" class=\"dataframe\">\n",
       "  <thead>\n",
       "    <tr style=\"text-align: right;\">\n",
       "      <th></th>\n",
       "      <th>text</th>\n",
       "      <th>Positive</th>\n",
       "      <th>Negative</th>\n",
       "      <th>Neutral</th>\n",
       "      <th>Highest_Sentiment</th>\n",
       "    </tr>\n",
       "  </thead>\n",
       "  <tbody>\n",
       "    <tr>\n",
       "      <th>0</th>\n",
       "      <td>a</td>\n",
       "      <td>0.1</td>\n",
       "      <td>0.10</td>\n",
       "      <td>0.80</td>\n",
       "      <td>Neutral</td>\n",
       "    </tr>\n",
       "    <tr>\n",
       "      <th>1</th>\n",
       "      <td>b</td>\n",
       "      <td>0.2</td>\n",
       "      <td>0.70</td>\n",
       "      <td>0.10</td>\n",
       "      <td>Negative</td>\n",
       "    </tr>\n",
       "    <tr>\n",
       "      <th>2</th>\n",
       "      <td>c</td>\n",
       "      <td>0.9</td>\n",
       "      <td>0.05</td>\n",
       "      <td>0.05</td>\n",
       "      <td>Positive</td>\n",
       "    </tr>\n",
       "  </tbody>\n",
       "</table>\n",
       "</div>"
      ],
      "text/plain": [
       "  text  Positive  Negative  Neutral Highest_Sentiment\n",
       "0    a       0.1      0.10     0.80           Neutral\n",
       "1    b       0.2      0.70     0.10          Negative\n",
       "2    c       0.9      0.05     0.05          Positive"
      ]
     },
     "execution_count": 18,
     "metadata": {},
     "output_type": "execute_result"
    }
   ],
   "source": [
    "score_df['Highest_Sentiment'] = score_df[['Positive', 'Negative', 'Neutral']].idxmax(axis=1)\n",
    "score_df"
   ]
  },
  {
   "cell_type": "code",
   "execution_count": 21,
   "metadata": {},
   "outputs": [
    {
     "name": "stdout",
     "output_type": "stream",
     "text": [
      "  text  Positive  Negative  Neutral  Sentiment_Negative  Sentiment_Neutral  \\\n",
      "0    a       0.1      0.10     0.80                   0                  1   \n",
      "1    b       0.2      0.70     0.10                   1                  0   \n",
      "2    c       0.9      0.05     0.05                   0                  0   \n",
      "\n",
      "   Sentiment_Positive  \n",
      "0                   0  \n",
      "1                   0  \n",
      "2                   1  \n"
     ]
    }
   ],
   "source": [
    "score_df_encoded = pd.get_dummies(score_df, columns=['Highest_Sentiment'], prefix=['Sentiment'])\n",
    "\n",
    "# 원핫 인코딩된 열의 값을 bool형에서 정수형 0과 1로 변환\n",
    "score_df_encoded[['Sentiment_Negative', 'Sentiment_Neutral', 'Sentiment_Positive']] = \\\n",
    "    score_df_encoded[['Sentiment_Negative', 'Sentiment_Neutral', 'Sentiment_Positive']].astype(int)\n",
    "\n",
    "print(score_df_encoded)"
   ]
  },
  {
   "cell_type": "code",
   "execution_count": 23,
   "metadata": {},
   "outputs": [
    {
     "data": {
      "text/plain": [
       "0.3333333333333333"
      ]
     },
     "execution_count": 23,
     "metadata": {},
     "output_type": "execute_result"
    }
   ],
   "source": [
    "score_pos = score_df_encoded['Sentiment_Negative'].mean()\n",
    "score_pos\n",
    "# score : pos, neg, neu\n",
    "score\n",
    "score = {1: {\n",
    "    'AAPL' : [0.1, 0.1, 0.9]\n",
    "    },\n",
    "         2: {}}"
   ]
  }
 ],
 "metadata": {
  "kernelspec": {
   "display_name": "torch",
   "language": "python",
   "name": "python3"
  },
  "language_info": {
   "codemirror_mode": {
    "name": "ipython",
    "version": 3
   },
   "file_extension": ".py",
   "mimetype": "text/x-python",
   "name": "python",
   "nbconvert_exporter": "python",
   "pygments_lexer": "ipython3",
   "version": "3.10.11"
  },
  "orig_nbformat": 4
 },
 "nbformat": 4,
 "nbformat_minor": 2
}
